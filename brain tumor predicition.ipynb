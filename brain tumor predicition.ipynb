{
 "cells": [
  {
   "cell_type": "code",
   "execution_count": 3,
   "id": "5bf27b65",
   "metadata": {},
   "outputs": [],
   "source": [
    "import numpy as np\n",
    "import pandas as pd\n",
    "import matplotlib.pyplot as plt\n",
    "from sklearn.model_selection import train_test_split\n",
    "from sklearn.metrics import accuracy_score"
   ]
  },
  {
   "cell_type": "code",
   "execution_count": 4,
   "id": "56beb579",
   "metadata": {},
   "outputs": [],
   "source": [
    "import os\n",
    "\n",
    "path = os.listdir('C:\\\\Users\\\\Ranjith\\\\Documents\\\\Brain-Tumor-Classification-DataSet-master\\\\Brain-Tumor-Classification-DataSet-master\\\\Training')\n",
    "classes = {'no_tumor':0, 'pituitary_tumor':1}"
   ]
  },
  {
   "cell_type": "code",
   "execution_count": null,
   "id": "fcbce15b",
   "metadata": {},
   "outputs": [],
   "source": [
    "import cv2\n",
    "X = []\n",
    "Y = []\n",
    "for cls in classes:\n",
    "    pth = 'C:\\\\Users\\\\Ranjith\\\\Documents\\\\Brain-Tumor-Classification-DataSet-master\\\\Brain-Tumor-Classification-DataSet-master\\\\Training\\\\'+cls\n",
    "    for j in os.listdir(pth):\n",
    "        img = cv2.imread(pth+'/'+j, 0)\n",
    "        img = cv2.resize(img, (200,200))\n",
    "        X.append(img)\n",
    "        Y.append(classes[cls])"
   ]
  },
  {
   "cell_type": "code",
   "execution_count": null,
   "id": "33c43f41",
   "metadata": {},
   "outputs": [],
   "source": [
    "X = np.array(X)\n",
    "Y = np.array(Y)\n",
    "\n",
    "X_updated = X.reshape(len(X), -1)"
   ]
  },
  {
   "cell_type": "code",
   "execution_count": null,
   "id": "92a99de8",
   "metadata": {},
   "outputs": [],
   "source": [
    "np.unique(Y)"
   ]
  },
  {
   "cell_type": "code",
   "execution_count": null,
   "id": "0ae8e550",
   "metadata": {},
   "outputs": [],
   "source": [
    "pd.Series(Y).value_counts()"
   ]
  },
  {
   "cell_type": "code",
   "execution_count": null,
   "id": "ff1a0612",
   "metadata": {},
   "outputs": [],
   "source": [
    "plt.imshow(X[0], cmap='gray')\n"
   ]
  },
  {
   "cell_type": "code",
   "execution_count": null,
   "id": "8eab53a1",
   "metadata": {},
   "outputs": [],
   "source": [
    "X_updated = X.reshape(len(X), -1)\n",
    "X_updated.shape"
   ]
  },
  {
   "cell_type": "code",
   "execution_count": null,
   "id": "79456b1b",
   "metadata": {},
   "outputs": [],
   "source": [
    "xtrain, xtest, ytrain, ytest = train_test_split(X_updated, Y, random_state=10,\n",
    "                                               test_size=.20)"
   ]
  },
  {
   "cell_type": "code",
   "execution_count": null,
   "id": "235d876b",
   "metadata": {},
   "outputs": [],
   "source": [
    "print(xtrain.max(), xtrain.min())\n",
    "print(xtest.max(), xtest.min())\n",
    "xtrain = xtrain/255\n",
    "xtest = xtest/255\n",
    "print(xtrain.max(), xtrain.min())\n",
    "print(xtest.max(), xtest.min())"
   ]
  },
  {
   "cell_type": "code",
   "execution_count": null,
   "id": "f9f040cb",
   "metadata": {},
   "outputs": [],
   "source": [
    "from sklearn.decomposition import PCA\n"
   ]
  },
  {
   "cell_type": "code",
   "execution_count": null,
   "id": "9e4e150a",
   "metadata": {},
   "outputs": [],
   "source": [
    "print(xtrain.shape, xtest.shape)\n",
    "\n",
    "pca = PCA(.98)\n",
    "# pca_train = pca.fit_transform(xtrain)\n",
    "# pca_test = pca.transform(xtest)\n",
    "pca_train = xtrain\n",
    "pca_test = xtest"
   ]
  },
  {
   "cell_type": "code",
   "execution_count": null,
   "id": "aa22420f",
   "metadata": {},
   "outputs": [],
   "source": [
    "from sklearn.linear_model import LogisticRegression\n",
    "from sklearn.svm import SVC"
   ]
  },
  {
   "cell_type": "code",
   "execution_count": null,
   "id": "aa9eed74",
   "metadata": {},
   "outputs": [],
   "source": [
    "import warnings\n",
    "warnings.filterwarnings('ignore')\n",
    "\n",
    "lg = LogisticRegression(C=0.1)\n",
    "lg.fit(xtrain, ytrain)"
   ]
  },
  {
   "cell_type": "code",
   "execution_count": null,
   "id": "cc467c38",
   "metadata": {},
   "outputs": [],
   "source": [
    "sv = SVC()\n",
    "sv.fit(xtrain, ytrain)"
   ]
  },
  {
   "cell_type": "code",
   "execution_count": null,
   "id": "a6eb300a",
   "metadata": {},
   "outputs": [],
   "source": [
    "print(\"Training Score:\", lg.score(xtrain, ytrain))\n",
    "print(\"Testing Score:\", lg.score(xtest, ytest))"
   ]
  },
  {
   "cell_type": "code",
   "execution_count": null,
   "id": "175d9fe1",
   "metadata": {},
   "outputs": [],
   "source": [
    "print(\"Training Score:\", sv.score(xtrain, ytrain))\n",
    "print(\"Testing Score:\", sv.score(xtest, ytest))"
   ]
  },
  {
   "cell_type": "code",
   "execution_count": null,
   "id": "a9debf84",
   "metadata": {},
   "outputs": [],
   "source": [
    "pred = sv.predict(xtest)\n"
   ]
  },
  {
   "cell_type": "code",
   "execution_count": null,
   "id": "96580612",
   "metadata": {},
   "outputs": [],
   "source": [
    "misclassified=np.where(ytest!=pred)\n",
    "misclassified"
   ]
  },
  {
   "cell_type": "code",
   "execution_count": null,
   "id": "0017daca",
   "metadata": {},
   "outputs": [],
   "source": [
    "print(\"Total Misclassified Samples: \",len(misclassified[0]))\n",
    "print(pred[36],ytest[36])"
   ]
  },
  {
   "cell_type": "code",
   "execution_count": null,
   "id": "53dcb830",
   "metadata": {},
   "outputs": [],
   "source": [
    "dec = {0:'No Tumor', 1:'Positive Tumor'}"
   ]
  },
  {
   "cell_type": "code",
   "execution_count": null,
   "id": "418e1ee9",
   "metadata": {
    "scrolled": true
   },
   "outputs": [],
   "source": [
    "plt.figure(figsize=(12,8))\n",
    "p = os.listdir('C:\\\\Users\\\\Ranjith\\\\Documents\\\\Brain-Tumor-Classification-DataSet-master\\\\Brain-Tumor-Classification-DataSet-master\\\\Training')\n",
    "c=1\n",
    "for i in os.listdir('C:\\\\Users\\\\Ranjith\\\\Documents\\\\Brain-Tumor-Classification-DataSet-master\\\\Brain-Tumor-Classification-DataSet-master\\\\Training\\\\no_tumor\\\\')[:9]:\n",
    "    plt.subplot(3,3,c)\n",
    "    \n",
    "    img = cv2.imread('C:\\\\Users\\\\Ranjith\\\\Documents\\\\Brain-Tumor-Classification-DataSet-master\\\\Brain-Tumor-Classification-DataSet-master\\\\Training\\\\no_tumor\\\\'+i,0)\n",
    "    img1 = cv2.resize(img, (200,200))\n",
    "    img1 = img1.reshape(1,-1)/255\n",
    "    p = sv.predict(img1)\n",
    "    plt.title(dec[p[0]])\n",
    "    plt.imshow(img, cmap='gray')\n",
    "    plt.axis('off')\n",
    "    c+=1"
   ]
  },
  {
   "cell_type": "code",
   "execution_count": null,
   "id": "e3bd61c4",
   "metadata": {},
   "outputs": [],
   "source": [
    "plt.figure(figsize=(12,8))\n",
    "p = os.listdir('C:\\\\Users\\\\Ranjith\\\\Documents\\\\Brain-Tumor-Classification-DataSet-master\\\\Brain-Tumor-Classification-DataSet-master\\\\Testing\\\\')\n",
    "c=1\n",
    "for i in os.listdir('C:\\\\Users\\\\Ranjith\\\\Documents\\\\Brain-Tumor-Classification-DataSet-master\\\\Brain-Tumor-Classification-DataSet-master\\\\Testing\\\\pituitary_tumor\\\\')[:16]:\n",
    "    plt.subplot(4,4,c)\n",
    "    \n",
    "    img = cv2.imread('C:\\\\Users\\\\Ranjith\\\\Documents\\\\Brain-Tumor-Classification-DataSet-master\\\\Brain-Tumor-Classification-DataSet-master\\\\Testing\\\\pituitary_tumor\\\\'+i,0)\n",
    "    img1 = cv2.resize(img, (200,200))\n",
    "    img1 = img1.reshape(1,-1)/255\n",
    "    p = sv.predict(img1)\n",
    "    plt.title(dec[p[0]])\n",
    "    plt.imshow(img, cmap='gray')\n",
    "    plt.axis('off')\n",
    "    c+=1"
   ]
  },
  {
   "cell_type": "code",
   "execution_count": null,
   "id": "5615eee5",
   "metadata": {},
   "outputs": [],
   "source": []
  }
 ],
 "metadata": {
  "kernelspec": {
   "display_name": "Python 3 (ipykernel)",
   "language": "python",
   "name": "python3"
  },
  "language_info": {
   "codemirror_mode": {
    "name": "ipython",
    "version": 3
   },
   "file_extension": ".py",
   "mimetype": "text/x-python",
   "name": "python",
   "nbconvert_exporter": "python",
   "pygments_lexer": "ipython3",
   "version": "3.10.6"
  }
 },
 "nbformat": 4,
 "nbformat_minor": 5
}
